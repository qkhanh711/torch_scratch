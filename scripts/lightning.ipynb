{
 "cells": [
  {
   "cell_type": "code",
   "execution_count": 1,
   "metadata": {},
   "outputs": [
    {
     "name": "stdout",
     "output_type": "stream",
     "text": [
      "DATASET: MNIST\n",
      "BATCH_SIZE: 64\n",
      "NUM_WORKERS: 4\n",
      "DEVICE: cpu\n",
      "LOG_INTERVAL: 100\n",
      "MODEL_DIR: models\n",
      "MODEL_NAME: nn_model.pth\n",
      "DRY_RUN: False\n",
      "LEARNING_RATE: 0.001\n",
      "EPOCHS: 1\n",
      "MOMENTUM: 0.9\n",
      "N_INPUT: 784\n",
      "N_CLASSES: 10\n"
     ]
    }
   ],
   "source": [
    "import config\n",
    "\n",
    "config.print_config()\n",
    "\n",
    "import dataloader\n",
    "\n",
    "train_loader, test_loader = dataloader.get_dataloader(\n",
    "    config.DATASET, config.BATCH_SIZE, config.NUM_WORKERS)"
   ]
  },
  {
   "cell_type": "code",
   "execution_count": null,
   "metadata": {},
   "outputs": [],
   "source": [
    "from lig"
   ]
  }
 ],
 "metadata": {
  "kernelspec": {
   "display_name": "base",
   "language": "python",
   "name": "python3"
  },
  "language_info": {
   "codemirror_mode": {
    "name": "ipython",
    "version": 3
   },
   "file_extension": ".py",
   "mimetype": "text/x-python",
   "name": "python",
   "nbconvert_exporter": "python",
   "pygments_lexer": "ipython3",
   "version": "3.12.2"
  }
 },
 "nbformat": 4,
 "nbformat_minor": 2
}
